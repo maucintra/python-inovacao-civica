{
 "cells": [
  {
   "cell_type": "markdown",
   "id": "32600998",
   "metadata": {},
   "source": [
    "# Exercício\n",
    "\n",
    "Construa um programa que:\n",
    " - Pergunte a usuária 2 números inteiros;\n",
    " - Crie uma lista numérica do intervalo;\n",
    " - Se o número for divisível por 3, substitua-o por \"Tecnologia\";\n",
    " - Se o número for divisível por 5, substitua-o por \"Cívica\";\n",
    " - Se o número for divisível por 3 e 5, substitua-o por \"Tecnologia Cívica\"."
   ]
  },
  {
   "cell_type": "code",
   "execution_count": 1,
   "id": "cellular-foundation",
   "metadata": {},
   "outputs": [
    {
     "name": "stdout",
     "output_type": "stream",
     "text": [
      "Informe um número inteiro: 10\n",
      "Informe outro número inteiro: 21\n",
      "Os números informados foram 10 e 21\n"
     ]
    }
   ],
   "source": [
    "num_1 = int(input('Informe um número inteiro: '))\n",
    "num_2 = int(input('Informe outro número inteiro: '))\n",
    "print(f'Os números informados foram {num_1} e {num_2}')"
   ]
  },
  {
   "cell_type": "code",
   "execution_count": 2,
   "id": "simplified-effects",
   "metadata": {},
   "outputs": [
    {
     "name": "stdout",
     "output_type": "stream",
     "text": [
      "[10, 11, 12, 13, 14, 15, 16, 17, 18, 19, 20]\n"
     ]
    }
   ],
   "source": [
    "lista = list(range(num_1,num_2,1))\n",
    "print(lista)"
   ]
  },
  {
   "cell_type": "code",
   "execution_count": 3,
   "id": "consistent-narrative",
   "metadata": {},
   "outputs": [
    {
     "name": "stdout",
     "output_type": "stream",
     "text": [
      "['Cívica', 11, 'Tecnologia', 13, 14, 'Tecnologia Cívica', 16, 17, 'Tecnologia', 19, 'Cívica']\n"
     ]
    }
   ],
   "source": [
    "nova_lista = []\n",
    "for item in lista:\n",
    "    if (item%3 == 0 ) and (item%5 == 0):\n",
    "        nova_lista.append('Tecnologia Cívica')\n",
    "    elif item%3 == 0:\n",
    "        nova_lista.append('Tecnologia')\n",
    "    elif item%5 == 0:\n",
    "        nova_lista.append('Cívica')\n",
    "    else:\n",
    "        nova_lista.append(item)\n",
    "        \n",
    "print(nova_lista)    "
   ]
  },
  {
   "cell_type": "code",
   "execution_count": null,
   "id": "varied-bangladesh",
   "metadata": {},
   "outputs": [],
   "source": []
  }
 ],
 "metadata": {
  "kernelspec": {
   "display_name": "Python 3",
   "language": "python",
   "name": "python3"
  },
  "language_info": {
   "codemirror_mode": {
    "name": "ipython",
    "version": 3
   },
   "file_extension": ".py",
   "mimetype": "text/x-python",
   "name": "python",
   "nbconvert_exporter": "python",
   "pygments_lexer": "ipython3",
   "version": "3.7.10"
  }
 },
 "nbformat": 4,
 "nbformat_minor": 5
}
