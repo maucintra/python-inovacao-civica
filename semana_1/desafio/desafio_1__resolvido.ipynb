{
 "cells": [
  {
   "cell_type": "markdown",
   "source": [
    "### Dicas\n",
    "\n",
    "*   Antes de ir pro código, leia a descrição do desafio e busque definir pequenos passos para chegar a solução.  \n",
    "*   Leia o código para se familiarizar com a solução que está em desenvolvimento;\n",
    "\n",
    "*  Tente entender o que o código faz ou significa. \n",
    "\n",
    "*  Busque encontrar as partes que faltam ser colocadas e erros no código que precisam ser corrigidos;\n",
    "\n",
    "*  Se aparecer erros, procure corrigir e/ou repita os passos acima.\n",
    "\n",
    "\n",
    "\n",
    "# 1. Desafio: dicionário\n",
    "\n",
    "Utilizando o conhecimento que obtivemos essa semana, utilize o Google Colab ou o Jupyter Notebook  para fazer um programa que consiga responder às seguintes perguntas:\n",
    "\n",
    "1. Quantas pessoas candidatas no estado de Pernambuco seriam mais novas do que você?\n",
    "2. Quantos porcentos isso representa em relação ao total de pessoas candidatas?\n",
    "\n",
    "Dica: Use como referência a coluna \"NR_IDADE_DATA_POSSE\" do conjunto de dados \"consulta_cand_2020_PE_desafio.csv\"\n",
    "\n",
    "\n",
    "> Fonte: TSE. Repositório de dados eleitorais. Conjunto de dados [Candidatos - 2020](https://www.tse.jus.br/eleicoes/estatisticas/repositorio-de-dados-eleitorais-1)"
   ],
   "metadata": {}
  },
  {
   "cell_type": "markdown",
   "source": [
    "### Importe as bibliotecas que usuará no código"
   ],
   "metadata": {}
  },
  {
   "cell_type": "code",
   "execution_count": 13,
   "source": [
    "import pandas as pd"
   ],
   "outputs": [],
   "metadata": {}
  },
  {
   "cell_type": "markdown",
   "source": [
    "### Determine sua idade"
   ],
   "metadata": {}
  },
  {
   "cell_type": "code",
   "execution_count": 14,
   "source": [
    "my_age = int(input('Qual a sua idade? '))"
   ],
   "outputs": [
    {
     "output_type": "stream",
     "name": "stdout",
     "text": [
      "Qual a sua idade? 50\n"
     ]
    }
   ],
   "metadata": {}
  },
  {
   "cell_type": "markdown",
   "source": [
    "### Leia o csv e converta para dicionário"
   ],
   "metadata": {}
  },
  {
   "cell_type": "code",
   "execution_count": 15,
   "source": [
    "df_candidates = pd.read_csv('consulta_cand_2020_PE_desafio.csv', sep=',', encoding='latin_1')\n",
    "pd.options.display.max_columns = None"
   ],
   "outputs": [],
   "metadata": {}
  },
  {
   "cell_type": "code",
   "execution_count": 16,
   "source": [
    "df_candidates.head()"
   ],
   "outputs": [
    {
     "output_type": "execute_result",
     "data": {
      "text/plain": [
       "   ANO_ELEICAO                    NM_UE  DS_CARGO  \\\n",
       "0         2020                GAMELEIRA  VEREADOR   \n",
       "1         2020  CABO DE SANTO AGOSTINHO  VEREADOR   \n",
       "2         2020               TUPARETAMA  VEREADOR   \n",
       "3         2020                  GRAVATÁ  VEREADOR   \n",
       "4         2020                  SERRITA  VEREADOR   \n",
       "\n",
       "                       NM_CANDIDATO SG_PARTIDO  NR_IDADE_DATA_POSSE  \\\n",
       "0  ANDREIA LÚCIA DE FREITAS PEIXOTO         PP                   52   \n",
       "1              MIZAEL JOSÉ DA SILVA        PDT                   40   \n",
       "2           CARLOS ANTONIO NOGUEIRA        PSB                   53   \n",
       "3              JOSÉ SOARES DA SILVA        PTC                   43   \n",
       "4            MARIA ZULEIDE DOMINGOS        PSD                   48   \n",
       "\n",
       "   CD_GENERO  DS_GENERO DS_COR_RACA  VR_DESPESA_MAX_CAMPANHA  \n",
       "0          4   FEMININO      BRANCA                 12307.75  \n",
       "1          2  MASCULINO       PARDA                109902.99  \n",
       "2          2  MASCULINO       PARDA                 12307.75  \n",
       "3          2  MASCULINO      BRANCA                134612.46  \n",
       "4          4   FEMININO       PARDA                 12307.75  "
      ],
      "text/html": [
       "<div>\n",
       "<style scoped>\n",
       "    .dataframe tbody tr th:only-of-type {\n",
       "        vertical-align: middle;\n",
       "    }\n",
       "\n",
       "    .dataframe tbody tr th {\n",
       "        vertical-align: top;\n",
       "    }\n",
       "\n",
       "    .dataframe thead th {\n",
       "        text-align: right;\n",
       "    }\n",
       "</style>\n",
       "<table border=\"1\" class=\"dataframe\">\n",
       "  <thead>\n",
       "    <tr style=\"text-align: right;\">\n",
       "      <th></th>\n",
       "      <th>ANO_ELEICAO</th>\n",
       "      <th>NM_UE</th>\n",
       "      <th>DS_CARGO</th>\n",
       "      <th>NM_CANDIDATO</th>\n",
       "      <th>SG_PARTIDO</th>\n",
       "      <th>NR_IDADE_DATA_POSSE</th>\n",
       "      <th>CD_GENERO</th>\n",
       "      <th>DS_GENERO</th>\n",
       "      <th>DS_COR_RACA</th>\n",
       "      <th>VR_DESPESA_MAX_CAMPANHA</th>\n",
       "    </tr>\n",
       "  </thead>\n",
       "  <tbody>\n",
       "    <tr>\n",
       "      <th>0</th>\n",
       "      <td>2020</td>\n",
       "      <td>GAMELEIRA</td>\n",
       "      <td>VEREADOR</td>\n",
       "      <td>ANDREIA LÚCIA DE FREITAS PEIXOTO</td>\n",
       "      <td>PP</td>\n",
       "      <td>52</td>\n",
       "      <td>4</td>\n",
       "      <td>FEMININO</td>\n",
       "      <td>BRANCA</td>\n",
       "      <td>12307.75</td>\n",
       "    </tr>\n",
       "    <tr>\n",
       "      <th>1</th>\n",
       "      <td>2020</td>\n",
       "      <td>CABO DE SANTO AGOSTINHO</td>\n",
       "      <td>VEREADOR</td>\n",
       "      <td>MIZAEL JOSÉ DA SILVA</td>\n",
       "      <td>PDT</td>\n",
       "      <td>40</td>\n",
       "      <td>2</td>\n",
       "      <td>MASCULINO</td>\n",
       "      <td>PARDA</td>\n",
       "      <td>109902.99</td>\n",
       "    </tr>\n",
       "    <tr>\n",
       "      <th>2</th>\n",
       "      <td>2020</td>\n",
       "      <td>TUPARETAMA</td>\n",
       "      <td>VEREADOR</td>\n",
       "      <td>CARLOS ANTONIO NOGUEIRA</td>\n",
       "      <td>PSB</td>\n",
       "      <td>53</td>\n",
       "      <td>2</td>\n",
       "      <td>MASCULINO</td>\n",
       "      <td>PARDA</td>\n",
       "      <td>12307.75</td>\n",
       "    </tr>\n",
       "    <tr>\n",
       "      <th>3</th>\n",
       "      <td>2020</td>\n",
       "      <td>GRAVATÁ</td>\n",
       "      <td>VEREADOR</td>\n",
       "      <td>JOSÉ SOARES DA SILVA</td>\n",
       "      <td>PTC</td>\n",
       "      <td>43</td>\n",
       "      <td>2</td>\n",
       "      <td>MASCULINO</td>\n",
       "      <td>BRANCA</td>\n",
       "      <td>134612.46</td>\n",
       "    </tr>\n",
       "    <tr>\n",
       "      <th>4</th>\n",
       "      <td>2020</td>\n",
       "      <td>SERRITA</td>\n",
       "      <td>VEREADOR</td>\n",
       "      <td>MARIA ZULEIDE DOMINGOS</td>\n",
       "      <td>PSD</td>\n",
       "      <td>48</td>\n",
       "      <td>4</td>\n",
       "      <td>FEMININO</td>\n",
       "      <td>PARDA</td>\n",
       "      <td>12307.75</td>\n",
       "    </tr>\n",
       "  </tbody>\n",
       "</table>\n",
       "</div>"
      ]
     },
     "metadata": {},
     "execution_count": 16
    }
   ],
   "metadata": {}
  },
  {
   "cell_type": "markdown",
   "source": [
    "###  Quantas pessoas candidatas no estado de Pernambuco seriam mais novas do que você "
   ],
   "metadata": {}
  },
  {
   "cell_type": "markdown",
   "source": [
    "__Método 1 - Loc__"
   ],
   "metadata": {}
  },
  {
   "cell_type": "code",
   "execution_count": 17,
   "source": [
    "candidates_mais_novos = df_candidates.loc[df_candidates['NR_IDADE_DATA_POSSE'] < my_age]"
   ],
   "outputs": [],
   "metadata": {}
  },
  {
   "cell_type": "code",
   "execution_count": 18,
   "source": [
    "print(f'{candidates_mais_novos.shape[0]} candidatos tem menos de {my_age} anos')"
   ],
   "outputs": [
    {
     "output_type": "stream",
     "name": "stdout",
     "text": [
      "13950 candidatos tem menos de 50 anos\n"
     ]
    }
   ],
   "metadata": {}
  },
  {
   "cell_type": "markdown",
   "source": [
    "__Método 2 - For__"
   ],
   "metadata": {}
  },
  {
   "cell_type": "code",
   "execution_count": 19,
   "source": [
    "candidates_mais_novos_2 = 0\n",
    "\n",
    "for ind in df_candidates.index:\n",
    "    if df_candidates['NR_IDADE_DATA_POSSE'][ind] < my_age:\n",
    "        candidates_mais_novos_2 += 1    "
   ],
   "outputs": [],
   "metadata": {}
  },
  {
   "cell_type": "code",
   "execution_count": 20,
   "source": [
    "print(f'{candidates_mais_novos_2} candidatos tem menos de {my_age} anos')"
   ],
   "outputs": [
    {
     "output_type": "stream",
     "name": "stdout",
     "text": [
      "13950 candidatos tem menos de 50 anos\n"
     ]
    }
   ],
   "metadata": {}
  },
  {
   "cell_type": "markdown",
   "source": [
    "### Quantos porcentos isso representa em relação ao total de pessoas candidatas."
   ],
   "metadata": {}
  },
  {
   "cell_type": "code",
   "execution_count": 21,
   "source": [
    "percentual = round((candidates_mais_novos_2 * 100)/df_candidates.shape[0], 2)\n",
    "\n",
    "print(f'Os {candidates_mais_novos_2} candidates menores que {my_age} anos representam {percentual}% do total de candidates')"
   ],
   "outputs": [
    {
     "output_type": "stream",
     "name": "stdout",
     "text": [
      "Os 13950 candidates menores que 50 anos representam 66.11% do total de candidates\n"
     ]
    }
   ],
   "metadata": {}
  },
  {
   "cell_type": "code",
   "execution_count": null,
   "source": [],
   "outputs": [],
   "metadata": {}
  }
 ],
 "metadata": {
  "kernelspec": {
   "display_name": "Python 3 (ipykernel)",
   "language": "python",
   "name": "python3"
  },
  "language_info": {
   "codemirror_mode": {
    "name": "ipython",
    "version": 3
   },
   "file_extension": ".py",
   "mimetype": "text/x-python",
   "name": "python",
   "nbconvert_exporter": "python",
   "pygments_lexer": "ipython3",
   "version": "3.7.10"
  }
 },
 "nbformat": 4,
 "nbformat_minor": 5
}